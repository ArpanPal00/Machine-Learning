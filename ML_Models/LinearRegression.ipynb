{
 "cells": [
  {
   "cell_type": "markdown",
   "id": "8c7ca908",
   "metadata": {},
   "source": [
    "#Machine Learning Linear Regression Models"
   ]
  },
  {
   "cell_type": "markdown",
   "id": "6189d406",
   "metadata": {},
   "source": [
    "##Simple Linear Regression"
   ]
  },
  {
   "cell_type": "code",
   "execution_count": 1,
   "id": "a9ebb6f9",
   "metadata": {},
   "outputs": [],
   "source": [
    "import numpy as np\n",
    "import matplotlib.pyplot as plt"
   ]
  },
  {
   "cell_type": "code",
   "execution_count": 2,
   "id": "e4344452",
   "metadata": {},
   "outputs": [],
   "source": [
    "def estimate_coef(x,y):\n",
    "    n = np.size(x)\n",
    "    m_x, m_y = np.mean(x), np.mean(y)\n",
    "    SS_xy = np.sum(y*x) - n*m_y*m_x\n",
    "    SS_xx = np.sum(x*x) - n*m_x*m_x\n",
    "    b_1 = SS_xy / SS_xx\n",
    "    b_0 = m_y - b_1*m_x\n",
    "    return (b_0, b_1)"
   ]
  },
  {
   "cell_type": "code",
   "execution_count": 3,
   "id": "075fe26b",
   "metadata": {},
   "outputs": [],
   "source": [
    "def plot_regression_line(x, y, b):\n",
    "    plt.scatter(x, y, color = \"m\", marker = \"o\", s = 30)\n",
    "    y_pred = b[0] + b[1]*x\n",
    "    plt.plot(x, y_pred, color = \"g\")\n",
    "    plt.xlabel('x')\n",
    "    plt.ylabel('y')\n",
    "    plt.title('Regression Line')\n",
    "    plt.show()"
   ]
  },
  {
   "cell_type": "code",
   "execution_count": 4,
   "id": "65cb7339",
   "metadata": {},
   "outputs": [],
   "source": [
    "def main():\n",
    "    x = np.array([0,1,2,3,4,5,6,7,8,9])\n",
    "    y = np.array([1,3,2,5,7,8,8,9,10,12])\n",
    "    b = estimate_coef(x, y)\n",
    "    print(\"Estimated coefficients:\\nb_0 = {}  \\nb_1 = {}\".format(b[0], b[1]))"
   ]
  }
 ],
 "metadata": {
  "kernelspec": {
   "display_name": ".venv",
   "language": "python",
   "name": "python3"
  },
  "language_info": {
   "codemirror_mode": {
    "name": "ipython",
    "version": 3
   },
   "file_extension": ".py",
   "mimetype": "text/x-python",
   "name": "python",
   "nbconvert_exporter": "python",
   "pygments_lexer": "ipython3",
   "version": "3.12.0"
  }
 },
 "nbformat": 4,
 "nbformat_minor": 5
}
