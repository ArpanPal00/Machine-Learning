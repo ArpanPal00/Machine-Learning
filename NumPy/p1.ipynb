{
 "cells": [
  {
   "cell_type": "code",
   "execution_count": null,
   "metadata": {},
   "outputs": [],
   "source": [
    "import numpy as np\n",
    "import matplotlib.pyplot as plt"
   ]
  },
  {
   "cell_type": "code",
   "execution_count": null,
   "metadata": {},
   "outputs": [
    {
     "data": {
      "text/plain": [
       "[-28 -24 -20 -16 -12  -8  -4   0   4   8  12  16  20  24]\n"
      ]
     },
     "metadata": {},
     "output_type": "display_data"
    }
   ],
   "source": [
    "arr8 = np.arange(-28, 28, 4)\n",
    "print(arr8)\n"
   ]
  },
  {
   "cell_type": "code",
   "execution_count": null,
   "metadata": {},
   "outputs": [
    {
     "data": {
      "text/plain": [
       "40\n",
       "[[20 30]\n",
       " [60 70]]\n",
       "[50 60 70 80 90]\n",
       "[[ 20  10  50  30  60]\n",
       " [ 30  20  60  40  70]\n",
       " [ 40  30  70  50  80]\n",
       " [ 50  40  80  60  90]\n",
       " [ 60  50  90  70 100]]\n"
      ]
     },
     "metadata": {},
     "output_type": "display_data"
    }
   ],
   "source": [
    "marks = np.array([[20, 30, 40, 50, 60],\n",
    "                  [10, 20, 30, 40, 50],\n",
    "                  [50, 60, 70, 80, 90],\n",
    "                  [30, 40, 50, 60, 70],\n",
    "                  [60, 70, 80, 90, 100]])\n",
    "print(marks[3, 1])\n",
    "print(marks[1:3,1:3])\n",
    "print(marks[2,:])\n",
    "new_marks = marks.transpose()\n",
    "print(new_marks)"
   ]
  },
  {
   "cell_type": "code",
   "execution_count": null,
   "metadata": {},
   "outputs": [
    {
     "data": {
      "text/plain": [
       "[[1 2]\n",
       " [3 4]\n",
       " [5 6]\n",
       " [7 8]]\n",
       "[[1 2 5 6]\n",
       " [3 4 7 8]]\n",
       "[[ 6  8]\n",
       " [10 12]]\n",
       "[[-4 -4]\n",
       " [-4 -4]]\n",
       "[[ 5 12]\n",
       " [21 32]]\n",
       "[[0.2        0.33333333]\n",
       " [0.42857143 0.5       ]]\n",
       "[[19 22]\n",
       " [43 50]]\n",
       "[[1 2]\n",
       " [3 4]]\n",
       "[[    1    64]\n",
       " [ 2187 65536]]\n"
      ]
     },
     "metadata": {},
     "output_type": "display_data"
    }
   ],
   "source": [
    "a1 = np.array([[1, 2], [3, 4]])\n",
    "a2 = np.array([[5, 6], [7, 8]])\n",
    "print(a1 + a2)\n",
    "print(a1 - a2)\n",
    "print(a1 * a2)\n",
    "print(a1 / a2)\n",
    "print(a1 @ a2)\n",
    "print(a1%a2)\n",
    "print(a1**a2)"
   ]
  },
  {
   "cell_type": "code",
   "execution_count": null,
   "metadata": {},
   "outputs": [
    {
     "data": {
      "text/plain": [
       "[-28 -24 -20 -16 -12  -8  -4   0   4   8  12  16  20  24]\n",
       "[-20 -16 -12  -8  -4]\n",
       "[ 24  20  16  12   8   4   0  -4  -8 -12 -16 -20 -24 -28]\n"
      ]
     },
     "metadata": {},
     "output_type": "display_data"
    }
   ],
   "source": [
    "arr7 = np.arange(-28, 28 , 4)\n",
    "print(arr7)\n",
    "print(arr7[2:7])\n",
    "print(arr7[::-1])"
   ]
  },
  {
   "cell_type": "code",
   "execution_count": null,
   "metadata": {},
   "outputs": [
    {
     "data": {
      "text/plain": [
       "[[ 20  30  40  50  60]\n",
       " [ 10  20  30  40  50]\n",
       " [ 50  60  70  80  90]\n",
       " [ 30  40  50  60  70]\n",
       " [ 60  70  80  90 100]]\n",
       "[[ 10  20  30  40  50]\n",
       " [ 20  30  40  50  60]\n",
       " [ 30  40  50  60  70]\n",
       " [ 50  60  70  80  90]\n",
       " [ 60  70  80  90 100]]\n"
      ]
     },
     "metadata": {},
     "output_type": "display_data"
    }
   ],
   "source": [
    "sorted_arr = np.sort(marks)\n",
    "print(sorted_arr)\n",
    "print(np.sort(marks, axis=0))"
   ]
  },
  {
   "cell_type": "code",
   "execution_count": null,
   "metadata": {},
   "outputs": [
    {
     "data": {
      "text/plain": [
       "[[1 2]\n",
       " [3 4]\n",
       " [5 6]\n",
       " [7 8]]\n",
       "[[1 2 5 6]\n",
       " [3 4 7 8]]\n"
      ]
     },
     "metadata": {},
     "output_type": "display_data"
    }
   ],
   "source": [
    "print(np.concatenate((a1, a2)))\n",
    "print(np.concatenate((a1, a2), axis=1))"
   ]
  }
 ],
 "metadata": {
  "language_info": {
   "name": "python"
  }
 },
 "nbformat": 4,
 "nbformat_minor": 2
}
