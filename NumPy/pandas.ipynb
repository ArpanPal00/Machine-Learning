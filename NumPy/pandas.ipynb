{
 "cells": [
  {
   "cell_type": "code",
   "execution_count": 4,
   "metadata": {},
   "outputs": [],
   "source": [
    "import pandas as pd"
   ]
  },
  {
   "cell_type": "code",
   "execution_count": 5,
   "metadata": {},
   "outputs": [
    {
     "data": {
      "text/plain": [
       "0    10\n",
       "1    20\n",
       "2    30\n",
       "dtype: int64"
      ]
     },
     "execution_count": 5,
     "metadata": {},
     "output_type": "execute_result"
    }
   ],
   "source": [
    "series_1 = pd.Series([10,20,30])\n",
    "series_1"
   ]
  },
  {
   "cell_type": "code",
   "execution_count": 6,
   "metadata": {},
   "outputs": [
    {
     "data": {
      "text/plain": [
       "1      Ram\n",
       "2    Shyam\n",
       "3    Madhu\n",
       "dtype: object"
      ]
     },
     "execution_count": 6,
     "metadata": {},
     "output_type": "execute_result"
    }
   ],
   "source": [
    "series_2 = pd.Series(['Ram','Shyam','Madhu'],index = [1,2,3])\n",
    "series_2"
   ]
  },
  {
   "cell_type": "code",
   "execution_count": 7,
   "metadata": {},
   "outputs": [
    {
     "data": {
      "text/plain": [
       "april      Ram\n",
       "may      Shyam\n",
       "june     Madhu\n",
       "dtype: object"
      ]
     },
     "execution_count": 7,
     "metadata": {},
     "output_type": "execute_result"
    }
   ],
   "source": [
    "s3 = pd.Series(['Ram','Shyam','Madhu'],index = ['april','may','june'])\n",
    "s3"
   ]
  },
  {
   "cell_type": "code",
   "execution_count": 18,
   "metadata": {
    "vscode": {
     "languageId": "javascript"
    }
   },
   "outputs": [
    {
     "name": "stdout",
     "output_type": "stream",
     "text": [
      "Uk            London\n",
      "USA       Washington\n",
      "India      New Delhi\n",
      "France         Paris\n",
      "Name: Capitals, dtype: object\n",
      "['London' 'Washington' 'New Delhi' 'Paris']\n",
      "False\n",
      "Uk              London\n",
      "USA         Washington\n",
      "India        New Delhi\n",
      "France           Paris\n",
      "pakistan        maqsad\n",
      "Name: Capitals, dtype: object\n"
     ]
    }
   ],
   "source": [
    "\n",
    "s4 = pd.Series({ 'Uk': 'London', \"USA\": \"Washington\", \"India\": \"New Delhi\", \"France\": \"Paris\" },name=\"Capitals\")\n",
    "print(s4)\n",
    "print(s4.values)\n",
    "print(s4.empty)\n",
    "s4['pakistan'] = \"maqsad\"\n",
    "print(s4)"
   ]
  },
  {
   "cell_type": "code",
   "execution_count": 9,
   "metadata": {
    "vscode": {
     "languageId": "javascript"
    }
   },
   "outputs": [
    {
     "name": "stdout",
     "output_type": "stream",
     "text": [
      "Original Series\n",
      " feb    2\n",
      "mar    3\n",
      "apr    4\n",
      "dtype: int64\n",
      "Value at s5.mar: 3\n",
      "april      Ram\n",
      "may      Shyam\n",
      "dtype: object\n"
     ]
    }
   ],
   "source": [
    "s5 = pd.Series([2,3,4], index = ['feb', 'mar', 'apr'])\n",
    "print('Original Series\\n',s5)\n",
    "print('Value at s5.mar:', s5.mar)\n",
    "print(s3[0:2])"
   ]
  },
  {
   "cell_type": "code",
   "execution_count": 10,
   "metadata": {
    "vscode": {
     "languageId": "javascript"
    }
   },
   "outputs": [
    {
     "name": "stdout",
     "output_type": "stream",
     "text": [
      "London             Uk\n",
      "Washington    America\n",
      "dtype: object\n",
      "\n",
      "London             Uk\n",
      "Washington    America\n",
      "New Delhi       India\n",
      "dtype: object\n"
     ]
    }
   ],
   "source": [
    "s6 = pd.Series(['Uk','America','India','France'],index=['London',\"Washington\",\"New Delhi\",\"Paris\"])\n",
    "print(s6[0:2])\n",
    "print()\n",
    "print(s6['London':'New Delhi'])"
   ]
  },
  {
   "cell_type": "code",
   "execution_count": null,
   "metadata": {
    "vscode": {
     "languageId": "javascript"
    }
   },
   "outputs": [
    {
     "name": "stdout",
     "output_type": "stream",
     "text": [
      "0    10\n",
      "1    12\n",
      "2    14\n",
      "3    16\n",
      "4    18\n",
      "dtype: int64\n",
      "\n",
      "a    10\n",
      "b    12\n",
      "c    14\n",
      "d    16\n",
      "e    18\n",
      "dtype: int64\n",
      "\n",
      "20    10\n",
      "22    12\n",
      "24    14\n",
      "26    16\n",
      "28    18\n",
      "dtype: int64\n",
      "\n",
      "a    350\n",
      "b    350\n",
      "c    350\n",
      "d    350\n",
      "e    350\n",
      "dtype: int64\n"
     ]
    }
   ],
   "source": [
    "import numpy as np\n",
    "\n",
    "new_s1 = pd.Series(np.arange(10,20,2))\n",
    "print(new_s1)\n",
    "print()\n",
    "new_s2 = pd.Series(np.arange(10,20,2), index = ['a','b','c','d','e'])\n",
    "print(new_s2)\n",
    "print()\n",
    "new_s3 = pd.Series(np.arange(10,20,2), index = np.arange(20,30,2))\n",
    "print(new_s3)\n",
    "print()\n",
    "new_s2['a':'e'] = 350\n",
    "print(new_s2)\n",
    "print(new_s1.head())\n",
    "print(new_s1.head(10))\n",
    "print(new_s1.tail())\n",
    "print(new_s1.tail(10))\n"
   ]
  },
  {
   "cell_type": "code",
   "execution_count": 19,
   "metadata": {
    "vscode": {
     "languageId": "javascript"
    }
   },
   "outputs": [
    {
     "name": "stdout",
     "output_type": "stream",
     "text": [
      "a    -9.0\n",
      "b     NaN\n",
      "c   -47.0\n",
      "d     NaN\n",
      "e   -95.0\n",
      "y     NaN\n",
      "z     NaN\n",
      "dtype: float64\n"
     ]
    }
   ],
   "source": [
    "a = pd.Series([1,2,3,4,5], index = ['a','b','c','d','e'])\n",
    "b = pd.Series([10,20,-10,-50,-100], index = ['z','y','a','c','e'])\n",
    "print(a+b)"
   ]
  }
 ],
 "metadata": {
  "kernelspec": {
   "display_name": ".venv",
   "language": "python",
   "name": "python3"
  },
  "language_info": {
   "codemirror_mode": {
    "name": "ipython",
    "version": 3
   },
   "file_extension": ".py",
   "mimetype": "text/x-python",
   "name": "python",
   "nbconvert_exporter": "python",
   "pygments_lexer": "ipython3",
   "version": "3.12.0"
  }
 },
 "nbformat": 4,
 "nbformat_minor": 2
}
